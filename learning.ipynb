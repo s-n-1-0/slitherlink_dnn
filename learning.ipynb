{
 "cells": [
  {
   "cell_type": "markdown",
   "id": "c3f48797",
   "metadata": {},
   "source": [
    "# CNNによるスリザーリンクパズル学習"
   ]
  },
  {
   "cell_type": "code",
   "execution_count": null,
   "id": "bcd16467",
   "metadata": {},
   "outputs": [],
   "source": [
    "import numpy as np\n",
    "import tensorflow as tf\n",
    "from keras.models import Sequential\n",
    "from keras.layers import Dense, Dropout, Flatten, Conv2D, MaxPooling2D\n",
    "from keras import backend as K\n",
    "from keras.utils import np_utils"
   ]
  },
  {
   "cell_type": "code",
   "execution_count": null,
   "id": "f33deea4",
   "metadata": {},
   "outputs": [],
   "source": [
    "npz = np.load(\"./dataset.npz\")\n",
    "data_x,data_y =(npz['arr_0'],npz['arr_1'])"
   ]
  },
  {
   "cell_type": "code",
   "execution_count": null,
   "id": "e9122a25",
   "metadata": {},
   "outputs": [],
   "source": [
    "def onehot_x(value):\n",
    "    return np.array([int(str(i) == value) for i in range(4)])\n",
    "dataset_x = [] #onehotに変換されたdatax\n",
    "dataset_y = [] #多ラベル変換されたdatay\n",
    "for i in range(data_x.shape[0]):\n",
    "    dx = data_x[i]\n",
    "    dy = data_y[i]\n",
    "    xh,xw = dx.shape\n",
    "    onehots_x = []\n",
    "    labels_y = []\n",
    "    for j in range(xh):\n",
    "        xlst = []\n",
    "        ylst = []\n",
    "        for k in range(xw):\n",
    "            x = onehot_x(dx[j,k])\n",
    "            xlst.append(x)\n",
    "            ytop = dy[1,j,k]\n",
    "            ybottom = dy[1,j+1,k]\n",
    "            yleft = dy[0,j,k]\n",
    "            yright = dy[0,j,k+1]\n",
    "            ylst.append([ytop,ybottom,yleft,yright]) # top,bottom,left,right\n",
    "        onehots_x.append(xlst)\n",
    "        labels_y.append(ylst)\n",
    "    dataset_x.append(np.array(onehots_x))\n",
    "    dataset_y.append(np.array(labels_y))\n",
    "    \n",
    "dataset_x = np.array(dataset_x)\n",
    "dataset_y = np.array(dataset_y)\n",
    "print(data_x[0][0][0])\n",
    "print(dataset_x[0][0][0])\n",
    "print(dataset_y[0][0][0]) #data_xとdata_yはdata_xが空白なら一致しない可能性があるので注意(当たり前だけど...)"
   ]
  },
  {
   "cell_type": "markdown",
   "id": "dfc40d3d",
   "metadata": {},
   "source": [
    "## 焦点用チャンネルを作る\n",
    "最適かどうかはわからない"
   ]
  },
  {
   "cell_type": "code",
   "execution_count": null,
   "id": "8ec4db78",
   "metadata": {},
   "outputs": [],
   "source": [
    "print(dataset_x.shape)\n",
    "print(dataset_y.shape)\n",
    "focused_dataset_x = []\n",
    "focused_dataset_y = []\n",
    "\n",
    "for c in range(dataset_x.shape[0]):\n",
    "    padx = np.zeros((dataset_x.shape[1]+4,dataset_x.shape[2]+4,4))\n",
    "    padx[2:-2,2:-2,:] = dataset_x[c,:,:,:]\n",
    "    for i in range(dataset_x.shape[1]):\n",
    "        for j in range(dataset_x.shape[2]):\n",
    "            newx = np.zeros((5,5,4))\n",
    "            newx[:,:,:] = padx[i:i+5,j:j+5] #2 + i-2:2+i+3 = i :i+5\n",
    "            #newx[2,2,4] = 1\n",
    "            focused_dataset_x.append(newx)\n",
    "            focused_dataset_y.append(dataset_y[c,i,j,:])\n",
    "#for i in range(5):\n",
    "    #print(focused_dataset_x[2][:,:,i])\n",
    "focused_dataset_x = np.array(focused_dataset_x,dtype='float32')\n",
    "focused_dataset_y = np.array(focused_dataset_y,dtype='float32')\n",
    "print(focused_dataset_y[0])\n",
    "print(focused_dataset_y[2])"
   ]
  },
  {
   "cell_type": "code",
   "execution_count": null,
   "id": "33ca82ba",
   "metadata": {},
   "outputs": [],
   "source": [
    "train_x = focused_dataset_x[:-5000]\n",
    "valid_x = focused_dataset_x[-5000:]\n",
    "train_y = focused_dataset_y[:-5000]\n",
    "valid_y = focused_dataset_y[-5000:]\n",
    "train_ds = tf.data.Dataset.from_tensor_slices((train_x, train_y)).shuffle(10000).batch(8)\n",
    "valid_ds = tf.data.Dataset.from_tensor_slices((valid_x, valid_y)).batch(8)"
   ]
  },
  {
   "cell_type": "code",
   "execution_count": null,
   "id": "f006d82d",
   "metadata": {},
   "outputs": [],
   "source": [
    "train_x.dtype"
   ]
  },
  {
   "cell_type": "markdown",
   "id": "e89455e6",
   "metadata": {},
   "source": [
    "# モデル作成"
   ]
  },
  {
   "cell_type": "code",
   "execution_count": null,
   "id": "219d9857",
   "metadata": {},
   "outputs": [],
   "source": [
    "# モデルの宣言\n",
    "model = Sequential()\n",
    "model.add(Conv2D(64, kernel_size=(3, 3),\n",
    "                 activation='relu',\n",
    "                 padding='same',\n",
    "                 input_shape=(5,5,4)))\n",
    "model.add(MaxPooling2D(pool_size=(2, 2)))\n",
    "model.add(Conv2D(128, (3, 3), activation='relu', padding='same'))\n",
    "model.add(MaxPooling2D((2, 2)))\n",
    "model.add(Dropout(0.25))\n",
    "model.add(Flatten())\n",
    "model.add(Dense(256, activation='relu'))\n",
    "model.add(Dense(512, activation='relu'))\n",
    "model.add(Dense(4, activation='sigmoid'))"
   ]
  },
  {
   "cell_type": "code",
   "execution_count": null,
   "id": "b2c08535",
   "metadata": {},
   "outputs": [],
   "source": [
    "def total_acc(y_true, y_pred):\n",
    "    pred = K.cast(K.greater_equal(y_pred, 0.5), \"float\")\n",
    "    flag = K.cast(K.equal(y_true, pred), \"float\")\n",
    "    return K.prod(flag, axis=-1)\n",
    "def binary_acc(y_true, y_pred):\n",
    "    pred = K.cast(K.greater_equal(y_pred, 0.5), \"float\")\n",
    "    flag = K.cast(K.equal(y_true, pred), \"float\")\n",
    "    return K.mean(flag, axis=-1)\n",
    "model.compile(loss='binary_crossentropy',\n",
    "              optimizer='sgd',\n",
    "              metrics=[total_acc,binary_acc])\n",
    "history = model.fit(train_ds, epochs=300,validation_data=valid_ds)"
   ]
  },
  {
   "cell_type": "code",
   "execution_count": null,
   "id": "bef6fabc",
   "metadata": {},
   "outputs": [],
   "source": []
  }
 ],
 "metadata": {
  "kernelspec": {
   "display_name": "Python 3 (ipykernel)",
   "language": "python",
   "name": "python3"
  },
  "language_info": {
   "codemirror_mode": {
    "name": "ipython",
    "version": 3
   },
   "file_extension": ".py",
   "mimetype": "text/x-python",
   "name": "python",
   "nbconvert_exporter": "python",
   "pygments_lexer": "ipython3",
   "version": "3.9.7"
  }
 },
 "nbformat": 4,
 "nbformat_minor": 5
}
