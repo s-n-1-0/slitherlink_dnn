{
 "cells": [
  {
   "cell_type": "markdown",
   "id": "910cf85a",
   "metadata": {},
   "source": [
    "# スリザーリンクデータセット生成\n",
    "スリザーリンクパズルをDNNに学習させるためのデータセットを生成します。\n",
    "\n",
    "# Step1. パズルデータ取得\n",
    "pinkston3さんのslitherlinkリポジトリをforkして改変した[pinkston3_slitherlink](https://github.com/s-n-1-0/pinkston3_slitherlink)リポジトリのget_puzzle.pyを実行します。\n",
    "※500件のパズルを取得可能(save.npzに保存)"
   ]
  },
  {
   "cell_type": "markdown",
   "id": "dafa0218",
   "metadata": {},
   "source": [
    "# Step2 . 正解データ生成\n",
    "SaitoTsutomuさんの[opt4puzzleリポジトリ](https://github.com/SaitoTsutomu/opt4puzzle)のスリザーリンクパズル解法を元に生成して保存します。\n",
    "+ [Qiita](https://qiita.com/SaitoTsutomu/items/0c0db8d22979fc9de8f4)\n",
    "+ コード出典:[SaitoTsutomu/opt4puzzleリポジトリ SlitherLink.ipyn](https://github.com/SaitoTsutomu/opt4puzzle/blob/master/SlitherLink.ipynb)"
   ]
  },
  {
   "cell_type": "code",
   "execution_count": 1,
   "id": "2e207c13",
   "metadata": {},
   "outputs": [],
   "source": [
    "import numpy as np\n",
    "from itertools import product\n",
    "from pulp import *\n",
    "from ortoolpy import addvar, addvars, addbinvar, addbinvars"
   ]
  },
  {
   "cell_type": "code",
   "execution_count": 2,
   "id": "856b44fe",
   "metadata": {},
   "outputs": [
    {
     "name": "stdout",
     "output_type": "stream",
     "text": [
      "(500, 10, 10)\n"
     ]
    }
   ],
   "source": [
    "data = np.load(\"./save.npz\")['arr_0']\n",
    "print(data.shape)"
   ]
  },
  {
   "cell_type": "code",
   "execution_count": 18,
   "id": "8f806462",
   "metadata": {},
   "outputs": [
    {
     "name": "stdout",
     "output_type": "stream",
     "text": [
      ".22.3..2..\n",
      ".3.3.2.3.2\n",
      "....2..22.\n",
      "3.3332.2.2\n",
      "2..2..222.\n",
      ".3..12.2.2\n",
      "1.1.2..23.\n",
      "2.1...2112\n",
      "1...3.3.2.\n",
      "3.13.1...3\n"
     ]
    }
   ],
   "source": [
    "print(\"\\n\".join([\"\".join(r) for r in data[0]]).replace(\" \",\".\"))"
   ]
  },
  {
   "cell_type": "code",
   "execution_count": 4,
   "id": "6ec800d5",
   "metadata": {},
   "outputs": [
    {
     "name": "stdout",
     "output_type": "stream",
     "text": [
      "Wall time: 4.29 s\n"
     ]
    }
   ],
   "source": [
    "#data = \"\"\"\\\n",
    "#33...3.\n",
    "#..2....\n",
    "#...21.3\n",
    "#23...02\n",
    "#0.03...\n",
    "#....0..\n",
    "#.3...33\"\"\"\n",
    "def solve(d):\n",
    "    pz = \"\\n\".join([\"\".join(r) for r in d]).replace(\" \",\".\").split()\n",
    "    nw, nh = len(pz[0]), len(pz)\n",
    "    M = (nw + 1) * (nh + 1) - 1\n",
    "    r2 = range(2)\n",
    "    m = LpProblem()\n",
    "    vh = np.array(addbinvars(nh+1, nw, 2)) # 0:to left, 1:to right (1)\n",
    "    vv = np.array(addbinvars(nh, nw+1, 2)) # 0:to down, 1:to up (2)\n",
    "    vz = np.array(addvars(nh+1, nw+1)) # (3)\n",
    "    def dirs(i, j, k):\n",
    "        return ([vh[i,j-l,k^l] for l in r2 if 0 <= j-l < nw] +\n",
    "                [vv[i-l,j,k^l] for l in r2 if 0 <= i-l < nh])\n",
    "    for i, j in product(range(nh), range(nw)):\n",
    "        if pz[i][j].isdigit():\n",
    "            m += lpSum(vh[i+k,j,l] + vv[i,j+k,l] for l in r2 for k in r2) == int(pz[i][j]) # (4)\n",
    "            if pz[i][j] == '3':\n",
    "                fy, fx = i, j\n",
    "    m += vz[fy,fx] == 0 # (7)\n",
    "    for i, j in product(range(nh+1), range(nw)):\n",
    "        m += lpSum(vh[i,j]) <= 1 # (5)\n",
    "        m += vz[i,j] + 1 <= vz[i,j+1] + M * (1 - vh[i,j,0]) # (6)\n",
    "        if (i, j) != (fy, fx):\n",
    "            m += vz[i,j+1] + 1 <= vz[i,j] + M * (1 - vh[i,j,1]) # (6)\n",
    "    for i, j in product(range(nh), range(nw+1)):\n",
    "        m += lpSum(vv[i,j]) <= 1 # (5)\n",
    "        m += vz[i,j] + 1 <= vz[i+1,j] + M * (1 - vv[i,j,0]) # (6)\n",
    "        if (i, j) != (fy, fx):\n",
    "            m += vz[i+1,j] + 1 <= vz[i,j] + M * (1 - vv[i,j,1]) # (6)\n",
    "    for i, j in product(range(nh+1), range(nw+1)):\n",
    "        m += vz[i,j] <= M # (8)\n",
    "        din = dirs(i, j, 1)\n",
    "        dout = dirs(i, j, 0)\n",
    "        m += lpSum(din) <= 1 # (9)\n",
    "        m += lpSum(din) == lpSum(dout) # (10)\n",
    "    %time m.solve()\n",
    "    rh = np.vectorize(value)(vh.sum(2))\n",
    "    rv = np.vectorize(value)(vv.sum(2))\n",
    "    #print(rv.shape) #その位置とその位置 + 1\n",
    "    #print(rh.shape)#〃\n",
    "    padv = np.vstack([rv,np.zeros((1,rv.shape[1]))])\n",
    "    padh = np.hstack([rh,np.zeros((rh.shape[0],1))]) \n",
    "    return (pz,np.stack([padv,padh]))\n",
    "pz,rvh = solve(data[0])"
   ]
  },
  {
   "cell_type": "markdown",
   "id": "49d695d4",
   "metadata": {},
   "source": [
    "### デモ"
   ]
  },
  {
   "cell_type": "code",
   "execution_count": 6,
   "id": "ec53c067",
   "metadata": {},
   "outputs": [
    {
     "name": "stdout",
     "output_type": "stream",
     "text": [
      " -   - - -   - - - -   \n",
      "|.|2|2 . 3|.|. 2 . .|\n",
      "       - -     - - -   \n",
      "|.|3|.|3 . 2|.|3 . 2 \n",
      "   -   - - -   - - -   \n",
      "|. . . . 2 . . 2 2 .|\n",
      " -   -   -   - - - -   \n",
      " 3|.|3|3|3|2|. 2 . 2 \n",
      " -     -       - - -   \n",
      "|2 .|. 2 .|.|2|2 2 .|\n",
      "   -   - -       - -   \n",
      "|.|3 .|. 1 2|.|2|. 2 \n",
      "   -   -   -       -   \n",
      "|1 .|1 .|2|. .|2|3|.|\n",
      "   -   -   - -   -     \n",
      "|2|. 1|. . . 2 1 1 2|\n",
      "   -   - -   - -   -   \n",
      "|1 .|. . 3|.|3 .|2|. \n",
      "   -   - -   -     -   \n",
      "|3|. 1|3 . 1 .|.|. 3|\n",
      " -     - - - -   - -   \n"
     ]
    }
   ],
   "source": [
    "_,nh,nw = rvh.shape\n",
    "for i in range(nh):\n",
    "    print(' ', end='')\n",
    "    for j in range(nw):\n",
    "        print('- ' if rvh[1,i,j] else '  ', end='')\n",
    "    print()\n",
    "    if i == nh - 1: break\n",
    "    for j in range(nw):\n",
    "        print('|' if rvh[0,i,j] else ' ', end='')\n",
    "        if j < nh - 1:\n",
    "            print(pz[i][j], end='')\n",
    "    print()"
   ]
  },
  {
   "cell_type": "code",
   "execution_count": null,
   "id": "169aedc3",
   "metadata": {},
   "outputs": [],
   "source": [
    "ans = [solve(data[i]) for i in range(data.shape[0])]"
   ]
  },
  {
   "cell_type": "markdown",
   "id": "66750a73",
   "metadata": {},
   "source": [
    "### 保存"
   ]
  },
  {
   "cell_type": "code",
   "execution_count": 17,
   "id": "f3cf4fe0",
   "metadata": {},
   "outputs": [],
   "source": [
    "ans_vh = [vh for _,vh in ans]\n",
    "ans_vh = np.array(ans_vh)\n",
    "np.savez(\"./dataset\",data,ans_vh)"
   ]
  }
 ],
 "metadata": {
  "kernelspec": {
   "display_name": "Python 3 (ipykernel)",
   "language": "python",
   "name": "python3"
  },
  "language_info": {
   "codemirror_mode": {
    "name": "ipython",
    "version": 3
   },
   "file_extension": ".py",
   "mimetype": "text/x-python",
   "name": "python",
   "nbconvert_exporter": "python",
   "pygments_lexer": "ipython3",
   "version": "3.9.7"
  }
 },
 "nbformat": 4,
 "nbformat_minor": 5
}
